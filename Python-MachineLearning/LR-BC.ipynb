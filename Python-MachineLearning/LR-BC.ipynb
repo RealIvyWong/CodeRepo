{
 "cells": [
  {
   "cell_type": "markdown",
   "metadata": {},
   "source": [
    "# lR-BC\n",
    "本 notebook 是使用逻辑回归对乳腺癌数据集进行二分类。\n",
    "\n",
    "代码主要参考自 裔隽，张怿檬，张目清等．Python机器学习实战[M]．北京：科学技术文献出版社，2018\n",
    "\n",
    "**设置环境如下**\n",
    "\n",
    "python 的版本为 3.7.0\n",
    "\n",
    "scikit-learn 库的版本为 0.20.0\n",
    "\n",
    "numpy 库的版本为 1.15.2"
   ]
  },
  {
   "cell_type": "markdown",
   "metadata": {},
   "source": [
    "## 1 乳腺癌数据集简介\n",
    "乳腺癌数据集是一个经典并且简单的二分类数据集。一共有 569 个样本，其中 212 个样本为恶性 (malignant, 0)，357 个样本为良性 (benign, 1)。每个样本有 30 个特征，均为非负实数。30 个特征分为 3 类，前 10 个是相关指标的平均值，中间 10 个是指标的偏差，最后 10 个是指标的最差极差。"
   ]
  },
  {
   "cell_type": "markdown",
   "metadata": {},
   "source": [
    "## 2 二分类"
   ]
  },
  {
   "cell_type": "code",
   "execution_count": 2,
   "metadata": {},
   "outputs": [],
   "source": [
    "# 导入需要的库\n",
    "import numpy as np\n",
    "from sklearn import datasets\n",
    "from sklearn.linear_model import LogisticRegression\n",
    "from sklearn.metrics import confusion_matrix\n",
    "from sklearn.model_selection import train_test_split"
   ]
  },
  {
   "cell_type": "code",
   "execution_count": 4,
   "metadata": {},
   "outputs": [],
   "source": [
    "# 导入数据并分为训练集和测试集\n",
    "breast_cancer=datasets.load_breast_cancer()\n",
    "x=breast_cancer['data']\n",
    "y=breast_cancer['target']\n",
    "X_train,X_test,y_train,y_test=train_test_split(x,y,random_state=42)"
   ]
  },
  {
   "cell_type": "code",
   "execution_count": 5,
   "metadata": {},
   "outputs": [
    {
     "name": "stderr",
     "output_type": "stream",
     "text": [
      "c:\\users\\ivy\\appdata\\local\\programs\\python\\python37\\lib\\site-packages\\sklearn\\linear_model\\logistic.py:432: FutureWarning: Default solver will be changed to 'lbfgs' in 0.22. Specify a solver to silence this warning.\n",
      "  FutureWarning)\n"
     ]
    },
    {
     "data": {
      "text/plain": [
       "LogisticRegression(C=1.0, class_weight=None, dual=False, fit_intercept=True,\n",
       "          intercept_scaling=1, max_iter=100, multi_class='warn',\n",
       "          n_jobs=None, penalty='l2', random_state=None, solver='warn',\n",
       "          tol=0.0001, verbose=0, warm_start=False)"
      ]
     },
     "execution_count": 5,
     "metadata": {},
     "output_type": "execute_result"
    }
   ],
   "source": [
    "# 逻辑回归拟合\n",
    "log_reg=LogisticRegression()\n",
    "log_reg.fit(X_train,y_train)"
   ]
  },
  {
   "cell_type": "code",
   "execution_count": 6,
   "metadata": {},
   "outputs": [
    {
     "name": "stdout",
     "output_type": "stream",
     "text": [
      "[[50  4]\n",
      " [ 2 87]]\n"
     ]
    }
   ],
   "source": [
    "# 测试集效果检验，输出混淆矩阵\n",
    "y_predict=log_reg.predict(X_test)\n",
    "print(confusion_matrix(y_test,y_predict))"
   ]
  }
 ],
 "metadata": {
  "kernelspec": {
   "display_name": "Python 3",
   "language": "python",
   "name": "python3"
  },
  "language_info": {
   "codemirror_mode": {
    "name": "ipython",
    "version": 3
   },
   "file_extension": ".py",
   "mimetype": "text/x-python",
   "name": "python",
   "nbconvert_exporter": "python",
   "pygments_lexer": "ipython3",
   "version": "3.7.0"
  }
 },
 "nbformat": 4,
 "nbformat_minor": 2
}
