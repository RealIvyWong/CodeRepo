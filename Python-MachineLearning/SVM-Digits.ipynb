{
 "cells": [
  {
   "cell_type": "markdown",
   "metadata": {},
   "source": [
    "# SVM-Digits\n",
    "本 notebook 是使用支持向量机对 Digits 数据集进行图片分类。\n",
    "\n",
    "代码主要参考自 裔隽，张怿檬，张目清等．Python机器学习实战[M]．北京：科学技术文献出版社，2018\n",
    "\n",
    "设置环境如下\n",
    "\n",
    "python 的版本为 3.7.0\n",
    "\n",
    "scikit-learn 库的版本为 0.20.0\n",
    "\n",
    "matplotlib 库的版本为 3.0.0"
   ]
  },
  {
   "cell_type": "markdown",
   "metadata": {},
   "source": [
    "## 1 Digits 数据集简介\n",
    "Digits 数据集主要由 8*8 大小的阿拉伯数字图片构成，数据集包含 1797 个样本，分为 0~9 十种不同的数字。"
   ]
  },
  {
   "cell_type": "markdown",
   "metadata": {},
   "source": [
    "## 2 分类\n",
    "在分类过程中首先读取数据集，并将其随机分割成 80% 的训练集和 20% 的测试集，然后在训练集上采用高斯核函数的 SVM 分类器，并在验证集上测试准确率，最后输出混淆矩阵和分类报告。"
   ]
  },
  {
   "cell_type": "code",
   "execution_count": 4,
   "metadata": {},
   "outputs": [],
   "source": [
    "# 载入需要的库\n",
    "from sklearn.svm import SVC\n",
    "from sklearn.datasets import load_digits\n",
    "#from sklearn import cross_validation\n",
    "from sklearn.model_selection import train_test_split\n",
    "from sklearn import metrics\n",
    "from matplotlib import pyplot as plt\n",
    "import random"
   ]
  },
  {
   "cell_type": "code",
   "execution_count": 5,
   "metadata": {},
   "outputs": [],
   "source": [
    "# 载入样本数据集\n",
    "digits=load_digits()"
   ]
  },
  {
   "cell_type": "code",
   "execution_count": 6,
   "metadata": {},
   "outputs": [],
   "source": [
    "# 获取数据集图片及对应的标签\n",
    "images=digits.images\n",
    "labels=digits.target"
   ]
  },
  {
   "cell_type": "code",
   "execution_count": 7,
   "metadata": {},
   "outputs": [
    {
     "data": {
      "image/png": "[encoded data removed]",
      "text/plain": [
       "<Figure size 432x288 with 4 Axes>"
      ]
     },
     "metadata": {
      "needs_background": "light"
     },
     "output_type": "display_data"
    }
   ],
   "source": [
    "# 绘制样本图片\n",
    "for index,(image,label) in enumerate(zip(images[:4],labels[:4])):\n",
    "    plt.subplot(1,4,index+1)\n",
    "    plt.axis('off')\n",
    "    plt.imshow(image,cmap=plt.cm.gray_r,interpolation='nearest')\n",
    "    plt.title('Sample:%i'% label)\n",
    "plt.show()"
   ]
  },
  {
   "cell_type": "code",
   "execution_count": 8,
   "metadata": {},
   "outputs": [],
   "source": [
    "# 转换图片为向量\n",
    "n_samples=len(images)\n",
    "image_vectors=images.reshape((n_samples,-1))"
   ]
  },
  {
   "cell_type": "code",
   "execution_count": 9,
   "metadata": {},
   "outputs": [],
   "source": [
    "# 分割训练集与测试集\n",
    "sample_index=list(range(n_samples))\n",
    "test_size=int(n_samples*0.2)\n",
    "random.shuffle(sample_index)\n",
    "train_index,test_index=sample_index[test_size:],sample_index[:test_size]\n",
    "X_train,Y_train=image_vectors[train_index],labels[train_index]\n",
    "X_test,Y_test=image_vectors[test_index],labels[test_index]"
   ]
  },
  {
   "cell_type": "code",
   "execution_count": 10,
   "metadata": {},
   "outputs": [],
   "source": [
    "# 构建 SVC 分类器训练并预报，使用 rbf 核函数\n",
    "classifier=SVC(kernel='rbf',C=1.0,gamma=0.001)\n",
    "classifier.fit(X_train,Y_train)\n",
    "prediction=classifier.predict(X_test)"
   ]
  },
  {
   "cell_type": "code",
   "execution_count": 12,
   "metadata": {},
   "outputs": [
    {
     "name": "stdout",
     "output_type": "stream",
     "text": [
      "Classification report for classifier SVC(C=1.0, cache_size=200, class_weight=None, coef0=0.0,\n",
      "  decision_function_shape='ovr', degree=3, gamma=0.001, kernel='rbf',\n",
      "  max_iter=-1, probability=False, random_state=None, shrinking=True,\n",
      "  tol=0.001, verbose=False): \n",
      "              precision    recall  f1-score   support\n",
      "\n",
      "           0       1.00      1.00      1.00        35\n",
      "           1       0.98      1.00      0.99        44\n",
      "           2       1.00      1.00      1.00        36\n",
      "           3       1.00      1.00      1.00        36\n",
      "           4       1.00      1.00      1.00        41\n",
      "           5       0.97      0.97      0.97        30\n",
      "           6       0.97      0.97      0.97        34\n",
      "           7       1.00      1.00      1.00        22\n",
      "           8       1.00      1.00      1.00        35\n",
      "           9       1.00      0.98      0.99        46\n",
      "\n",
      "   micro avg       0.99      0.99      0.99       359\n",
      "   macro avg       0.99      0.99      0.99       359\n",
      "weighted avg       0.99      0.99      0.99       359\n",
      " \n",
      "\n",
      "Confusion matrix: \n",
      "[[35  0  0  0  0  0  0  0  0  0]\n",
      " [ 0 44  0  0  0  0  0  0  0  0]\n",
      " [ 0  0 36  0  0  0  0  0  0  0]\n",
      " [ 0  0  0 36  0  0  0  0  0  0]\n",
      " [ 0  0  0  0 41  0  0  0  0  0]\n",
      " [ 0  0  0  0  0 29  1  0  0  0]\n",
      " [ 0  1  0  0  0  0 33  0  0  0]\n",
      " [ 0  0  0  0  0  0  0 22  0  0]\n",
      " [ 0  0  0  0  0  0  0  0 35  0]\n",
      " [ 0  0  0  0  0  1  0  0  0 45]]\n"
     ]
    }
   ],
   "source": [
    "# 输出结果及混淆矩阵\n",
    "print(\"Classification report for classifier %s: \\n%s \\n\" %(classifier,metrics.classification_report(Y_test,prediction)))\n",
    "print(\"Confusion matrix: \\n%s\"%metrics.confusion_matrix(Y_test,prediction))"
   ]
  }
 ],
 "metadata": {
  "kernelspec": {
   "display_name": "Python 3",
   "language": "python",
   "name": "python3"
  },
  "language_info": {
   "codemirror_mode": {
    "name": "ipython",
    "version": 3
   },
   "file_extension": ".py",
   "mimetype": "text/x-python",
   "name": "python",
   "nbconvert_exporter": "python",
   "pygments_lexer": "ipython3",
   "version": "3.7.0"
  }
 },
 "nbformat": 4,
 "nbformat_minor": 2
}
