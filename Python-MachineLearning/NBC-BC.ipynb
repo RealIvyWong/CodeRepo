{
 "cells": [
  {
   "cell_type": "markdown",
   "metadata": {},
   "source": [
    "# NBC-BC\n",
    "本 notebook 是使用朴素贝叶斯分类器对乳腺癌数据集进行二分类。\n",
    "\n",
    "代码主要参考自 裔隽，张怿檬，张目清等．Python机器学习实战[M]．北京：科学技术文献出版社，2018\n",
    "\n",
    "设置环境如下\n",
    "\n",
    "python 的版本为 3.7.0\n",
    "\n",
    "scikit-learn 库的版本为 0.20.0"
   ]
  },
  {
   "cell_type": "markdown",
   "metadata": {},
   "source": [
    "## 1 乳腺癌数据集简介\n",
    "乳腺癌数据集是一个经典并且简单的二分类数据集。一共有 569 个样本，其中 212 个样本为恶性 (malignant, 0)，357 个样本为良性 (benign, 1)。每个样本有 30 个特征，均为非负实数。30 个特征分为 3 类，前 10 个是相关指标的平均值，中间 10 个是指标的偏差，最后 10 个是指标的最差极差。"
   ]
  },
  {
   "cell_type": "markdown",
   "metadata": {},
   "source": [
    "## 2 二分类"
   ]
  },
  {
   "cell_type": "code",
   "execution_count": 2,
   "metadata": {},
   "outputs": [],
   "source": [
    "# 导入需要的库\n",
    "from sklearn.datasets import load_breast_cancer\n",
    "# from sklearn.cross_validation import train_test_split \n",
    "# sklearn 的 0.20.0 版本已经没有 cross_validation 的包了\n",
    "from sklearn.model_selection import train_test_split\n",
    "from sklearn.naive_bayes import GaussianNB\n",
    "from sklearn.metrics import classification_report\n",
    "from sklearn.metrics import confusion_matrix\n",
    "from sklearn.metrics import accuracy_score"
   ]
  },
  {
   "cell_type": "code",
   "execution_count": 4,
   "metadata": {},
   "outputs": [],
   "source": [
    "# 准备数据集\n",
    "data=load_breast_cancer()\n",
    "label_names=data['target_names']\n",
    "labels=data['target']\n",
    "feature_names=data['feature_names']\n",
    "features=data['data']"
   ]
  },
  {
   "cell_type": "code",
   "execution_count": 5,
   "metadata": {},
   "outputs": [],
   "source": [
    "# 分离训练集和验证集\n",
    "train,test,train_labels,test_labels=train_test_split(features,labels,test_size=0.33,random_state=42)"
   ]
  },
  {
   "cell_type": "code",
   "execution_count": 6,
   "metadata": {},
   "outputs": [],
   "source": [
    "# 创建朴素贝叶斯分类器，并拟合数据集\n",
    "gnb=GaussianNB()\n",
    "model=gnb.fit(train,train_labels)"
   ]
  },
  {
   "cell_type": "code",
   "execution_count": 7,
   "metadata": {},
   "outputs": [
    {
     "name": "stdout",
     "output_type": "stream",
     "text": [
      "[1 0 0 1 1 0 0 0 1 1 1 0 1 0 1 0 1 1 1 0 1 1 0 1 1 1 1 1 1 0 1 1 1 1 1 1 0\n",
      " 1 0 1 1 0 1 1 1 1 1 1 1 1 0 0 1 1 1 1 1 0 0 1 1 0 0 1 1 1 0 0 1 1 0 0 1 0\n",
      " 1 1 1 1 1 1 0 1 1 0 0 0 0 0 1 1 1 1 1 1 1 1 0 0 1 0 0 1 0 0 1 1 1 0 1 1 0\n",
      " 1 1 0 0 0 1 1 1 0 0 1 1 0 1 0 0 1 1 0 0 0 1 1 1 0 1 1 0 0 1 0 1 1 0 1 0 0\n",
      " 1 1 1 1 1 1 1 0 0 1 1 1 1 1 1 1 1 1 1 1 1 0 0 1 1 0 1 1 0 1 1 1 1 1 1 0 0\n",
      " 0 1 1]\n",
      "0.9414893617021277\n",
      "[[ 61   6]\n",
      " [  5 116]]\n",
      "              precision    recall  f1-score   support\n",
      "\n",
      "           0       0.92      0.91      0.92        67\n",
      "           1       0.95      0.96      0.95       121\n",
      "\n",
      "   micro avg       0.94      0.94      0.94       188\n",
      "   macro avg       0.94      0.93      0.94       188\n",
      "weighted avg       0.94      0.94      0.94       188\n",
      "\n"
     ]
    }
   ],
   "source": [
    "# 在验证集上进行预测，并输出 accuracy score，混淆矩阵和分类报告\n",
    "preds=gnb.predict(test)\n",
    "print(preds)\n",
    "print(accuracy_score(test_labels,preds))\n",
    "print(confusion_matrix(test_labels,preds))\n",
    "print(classification_report(test_labels,preds))"
   ]
  }
 ],
 "metadata": {
  "kernelspec": {
   "display_name": "Python 3",
   "language": "python",
   "name": "python3"
  },
  "language_info": {
   "codemirror_mode": {
    "name": "ipython",
    "version": 3
   },
   "file_extension": ".py",
   "mimetype": "text/x-python",
   "name": "python",
   "nbconvert_exporter": "python",
   "pygments_lexer": "ipython3",
   "version": "3.7.0"
  }
 },
 "nbformat": 4,
 "nbformat_minor": 2
}
