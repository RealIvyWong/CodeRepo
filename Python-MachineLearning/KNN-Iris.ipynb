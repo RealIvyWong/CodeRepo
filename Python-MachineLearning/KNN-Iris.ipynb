{
 "cells": [
  {
   "cell_type": "markdown",
   "metadata": {},
   "source": [
    "# KNN-Iris\n",
    "本 notebook 是使用 K 近邻分类算法对 Iris 数据集进行分类。\n",
    "\n",
    "代码主要参考自 裔隽，张怿檬，张目清等．Python机器学习实战[M]．北京：科学技术文献出版社，2018\n",
    "\n",
    "**设置环境如下**\n",
    "\n",
    "python 的版本为 3.7.0\n",
    "scikit-learn 库的版本为 0.20.0"
   ]
  },
  {
   "cell_type": "markdown",
   "metadata": {},
   "source": [
    "## 1 Iris 数据集简介\n",
    "Iris 数据集是一个常用的分类用数据集，以鸢尾花的特征作为数据来源，数据集包含 150 个样本，分为 3 类花种，每类 50 个样本，每个样本包含 4 个独立属性（萼片长度、萼片宽度、花瓣长度、花瓣宽度）。"
   ]
  },
  {
   "cell_type": "markdown",
   "metadata": {},
   "source": [
    "## 2 分类\n",
    "我们首先读取数据集，并将其随机分割成 80% 的训练集和 20% 的验证集，然后在训练集上构造 KNN 分类器，并在验证集上测试准确率，最后输出准确率分数、混淆矩阵和分类报告。"
   ]
  },
  {
   "cell_type": "code",
   "execution_count": 6,
   "metadata": {},
   "outputs": [],
   "source": [
    "# 导入需要用到的库\n",
    "from sklearn import datasets\n",
    "from sklearn.neighbors import KNeighborsClassifier\n",
    "# from sklearn import cross_validation 原书引用这个包，但是这个包自 0.18 版本依赖被批判，在 0.20 版本已经除去了\n",
    "# 取而代之的 from sklearn.model_selection import cross_validate，但是我们要使用的 train_test_split 函数仍在 model_selection 包里\n",
    "from sklearn import model_selection \n",
    "from sklearn.metrics import classification_report\n",
    "from sklearn.metrics import confusion_matrix\n",
    "from sklearn.metrics import accuracy_score"
   ]
  },
  {
   "cell_type": "code",
   "execution_count": 7,
   "metadata": {},
   "outputs": [],
   "source": [
    "# 准备数据集,并分离训练集和验证集\n",
    "iris=datasets.load_iris()\n",
    "X=iris.data\n",
    "Y=iris.target\n",
    "validation_size=0.20\n",
    "seed=1\n",
    "X_train,X_validation,Y_train,Y_validation=model_selection.train_test_split(X,Y,test_size=validation_size,random_state=seed)"
   ]
  },
  {
   "cell_type": "code",
   "execution_count": 9,
   "metadata": {},
   "outputs": [
    {
     "data": {
      "text/plain": [
       "KNeighborsClassifier(algorithm='auto', leaf_size=30, metric='minkowski',\n",
       "           metric_params=None, n_jobs=None, n_neighbors=5, p=2,\n",
       "           weights='uniform')"
      ]
     },
     "execution_count": 9,
     "metadata": {},
     "output_type": "execute_result"
    }
   ],
   "source": [
    "# 创建 KNN 分类器，并拟合数据集\n",
    "knn = KNeighborsClassifier()\n",
    "knn.fit(X_train,Y_train)"
   ]
  },
  {
   "cell_type": "code",
   "execution_count": 10,
   "metadata": {},
   "outputs": [
    {
     "name": "stdout",
     "output_type": "stream",
     "text": [
      "1.0\n",
      "[[11  0  0]\n",
      " [ 0 13  0]\n",
      " [ 0  0  6]]\n",
      "              precision    recall  f1-score   support\n",
      "\n",
      "           0       1.00      1.00      1.00        11\n",
      "           1       1.00      1.00      1.00        13\n",
      "           2       1.00      1.00      1.00         6\n",
      "\n",
      "   micro avg       1.00      1.00      1.00        30\n",
      "   macro avg       1.00      1.00      1.00        30\n",
      "weighted avg       1.00      1.00      1.00        30\n",
      "\n"
     ]
    }
   ],
   "source": [
    "# 在验证集上预测，并输出 accuracy score，混淆矩阵和分类报告\n",
    "predictions=knn.predict(X_validation)\n",
    "print(accuracy_score(Y_validation,predictions))\n",
    "print(confusion_matrix(Y_validation,predictions))\n",
    "print(classification_report(Y_validation,predictions))"
   ]
  },
  {
   "cell_type": "code",
   "execution_count": null,
   "metadata": {},
   "outputs": [],
   "source": []
  }
 ],
 "metadata": {
  "kernelspec": {
   "display_name": "Python 3",
   "language": "python",
   "name": "python3"
  },
  "language_info": {
   "codemirror_mode": {
    "name": "ipython",
    "version": 3
   },
   "file_extension": ".py",
   "mimetype": "text/x-python",
   "name": "python",
   "nbconvert_exporter": "python",
   "pygments_lexer": "ipython3",
   "version": "3.7.0"
  }
 },
 "nbformat": 4,
 "nbformat_minor": 2
}
