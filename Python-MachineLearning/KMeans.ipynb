{
 "cells": [
  {
   "cell_type": "markdown",
   "metadata": {},
   "source": [
    "# KMeans\n",
    "本 notebook 是使用 KMeans 聚类算法对自己随机编撰的数据进行聚类。\n",
    "\n",
    "**使用环境**\n",
    "\n",
    "python 的版本为 3.7.0\n",
    "\n",
    "matplotlib 库的版本为 3.0.0\n",
    "\n",
    "numpy 库的版本为 1.15.2\n",
    "\n",
    "sklearn 库的版本为 0.20.0"
   ]
  },
  {
   "cell_type": "markdown",
   "metadata": {},
   "source": [
    "## 聚类"
   ]
  },
  {
   "cell_type": "code",
   "execution_count": 1,
   "metadata": {},
   "outputs": [],
   "source": [
    "# 导入需要的库\n",
    "import matplotlib.pyplot as plt\n",
    "import numpy as np"
   ]
  },
  {
   "cell_type": "code",
   "execution_count": 2,
   "metadata": {},
   "outputs": [],
   "source": [
    "# 构造样本集合，每个样本可以表示成二维直角坐标平面上一个点 (x1,x2)\n",
    "x1=np.array([1,2,3,1,5,6,5,5,6,7,8,9,9])\n",
    "x2=np.array([1,3,2,2,8,6,7,6,7,1,2,1,3])\n",
    "x=np.array(list(zip(x1,x2))).reshape(len(x1),2)"
   ]
  },
  {
   "cell_type": "code",
   "execution_count": 3,
   "metadata": {},
   "outputs": [
    {
     "data": {
      "text/plain": [
       "<matplotlib.collections.PathCollection at 0x217118b14e0>"
      ]
     },
     "execution_count": 3,
     "metadata": {},
     "output_type": "execute_result"
    },
    {
     "data": {
      "image/png": "[encoded data removed]",
      "text/plain": [
       "<Figure size 720x720 with 1 Axes>"
      ]
     },
     "metadata": {
      "needs_background": "light"
     },
     "output_type": "display_data"
    }
   ],
   "source": [
    "# 将样本集合可视化\n",
    "%matplotlib inline\n",
    "plt.figure(figsize=(10,10))\n",
    "plt.xlim([0,10])\n",
    "plt.ylim([0,10])\n",
    "plt.title('sample')\n",
    "plt.scatter(x1,x2)"
   ]
  },
  {
   "cell_type": "code",
   "execution_count": 4,
   "metadata": {},
   "outputs": [],
   "source": [
    "# 可以从上图看出，所有13个样本点的大致分布情况\n",
    "# 导入建模需要的库\n",
    "from sklearn.cluster import KMeans\n",
    "import matplotlib.pyplot as plt"
   ]
  },
  {
   "cell_type": "code",
   "execution_count": 5,
   "metadata": {},
   "outputs": [],
   "source": [
    "# 进行 K-Means 聚类，设置聚类个数为 3\n",
    "kmeans_model=KMeans(n_clusters=3).fit(x)"
   ]
  },
  {
   "cell_type": "code",
   "execution_count": 6,
   "metadata": {},
   "outputs": [
    {
     "data": {
      "text/plain": [
       "(0, 10)"
      ]
     },
     "execution_count": 6,
     "metadata": {},
     "output_type": "execute_result"
    },
    {
     "data": {
      "image/png": "[encoded data removed]",
      "text/plain": [
       "<Figure size 432x288 with 1 Axes>"
      ]
     },
     "metadata": {
      "needs_background": "light"
     },
     "output_type": "display_data"
    }
   ],
   "source": [
    "# 将结果可视化，用 3 种形状和颜色表示 3 个簇\n",
    "colors=['b','g','r']\n",
    "markers=['o','^','+']\n",
    "for i,j in enumerate(kmeans_model.labels_):\n",
    "    plt.plot(x1[i],x2[i],color=colors[j],marker=markers[j],ls='None')\n",
    "plt.xlim([0,10])\n",
    "plt.ylim([0,10])"
   ]
  }
 ],
 "metadata": {
  "kernelspec": {
   "display_name": "Python 3",
   "language": "python",
   "name": "python3"
  },
  "language_info": {
   "codemirror_mode": {
    "name": "ipython",
    "version": 3
   },
   "file_extension": ".py",
   "mimetype": "text/x-python",
   "name": "python",
   "nbconvert_exporter": "python",
   "pygments_lexer": "ipython3",
   "version": "3.7.0"
  }
 },
 "nbformat": 4,
 "nbformat_minor": 2
}
