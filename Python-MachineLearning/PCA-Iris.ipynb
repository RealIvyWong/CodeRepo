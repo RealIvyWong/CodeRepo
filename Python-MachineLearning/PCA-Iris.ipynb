{
 "cells": [
  {
   "cell_type": "markdown",
   "metadata": {},
   "source": [
    "# PCA-Iris\n",
    "本 notebook 是使用主成分分析法对 Iris 数据集进行降维。\n",
    "\n",
    "代码主要参考自 裔隽，张怿檬，张目清等．Python机器学习实战[M]．北京：科学技术文献出版社，2018\n",
    "\n",
    "**设置环境如下**\n",
    "\n",
    "python 的版本为 3.7.0\n",
    "\n",
    "scikit-learn 库的版本为 0.20.0\n",
    "\n",
    "matplotlib 库的版本为 3.0.0"
   ]
  },
  {
   "cell_type": "markdown",
   "metadata": {},
   "source": [
    "## 1 Iris 数据集简介\n",
    "Iris 数据集是一个常用的分类用数据集，以鸢尾花的特征作为数据来源，数据集包含 150 个样本，分为 3 类花种，每类 50 个样本，每个样本包含 4 个独立属性（萼片长度、萼片宽度、花瓣长度、花瓣宽度）。"
   ]
  },
  {
   "cell_type": "markdown",
   "metadata": {},
   "source": [
    "## 2 降维\n",
    "我们首先读取数据集，并将其从 4 个特征维度压缩到 2 维。"
   ]
  },
  {
   "cell_type": "code",
   "execution_count": 3,
   "metadata": {},
   "outputs": [],
   "source": [
    "# 导入需要的库\n",
    "import matplotlib.pyplot as plt\n",
    "from sklearn.decomposition import PCA\n",
    "from sklearn.datasets import load_iris"
   ]
  },
  {
   "cell_type": "code",
   "execution_count": 4,
   "metadata": {},
   "outputs": [],
   "source": [
    "# 加载数据集\n",
    "data=load_iris()\n",
    "y=data.target\n",
    "x=data.data"
   ]
  },
  {
   "cell_type": "code",
   "execution_count": 5,
   "metadata": {},
   "outputs": [],
   "source": [
    "# 加载 PCA 算法，设置降维后主成分数目为2\n",
    "pca=PCA(n_components=2)"
   ]
  },
  {
   "cell_type": "code",
   "execution_count": 9,
   "metadata": {},
   "outputs": [],
   "source": [
    "# 得到新的样本点\n",
    "reduced_x=pca.fit_transform(x)\n",
    "red_x,red_y=[],[]\n",
    "blue_x,blue_y=[],[]\n",
    "green_x,green_y=[],[]\n",
    "for i in range(len(reduced_x)):\n",
    "    if y[i]==0:\n",
    "        red_x.append(reduced_x[i][0])\n",
    "        red_y.append(reduced_x[i][1])\n",
    "    elif y[i]==1:\n",
    "        blue_x.append(reduced_x[i][0])\n",
    "        blue_y.append(reduced_x[i][1])\n",
    "    else:\n",
    "        green_x.append(reduced_x[i][0])\n",
    "        green_y.append(reduced_x[i][1])"
   ]
  },
  {
   "cell_type": "code",
   "execution_count": 10,
   "metadata": {},
   "outputs": [
    {
     "data": {
      "image/png": "[encoded data removed]",
      "text/plain": [
       "<Figure size 432x288 with 1 Axes>"
      ]
     },
     "metadata": {
      "needs_background": "light"
     },
     "output_type": "display_data"
    }
   ],
   "source": [
    "# 将结果可视化，用 3 种形状和颜色表示 3 个类别\n",
    "plt.scatter(red_x,red_y,c='r',marker='o')\n",
    "plt.scatter(blue_x,blue_y,c='b',marker='x')\n",
    "plt.scatter(green_x,green_y,c='g',marker='^')\n",
    "plt.show()"
   ]
  },
  {
   "cell_type": "markdown",
   "metadata": {},
   "source": [
    "可以看到，将4维降到2维后在直角坐标系中显示，数据仍能够清晰地分成 3 类。"
   ]
  }
 ],
 "metadata": {
  "kernelspec": {
   "display_name": "Python 3",
   "language": "python",
   "name": "python3"
  },
  "language_info": {
   "codemirror_mode": {
    "name": "ipython",
    "version": 3
   },
   "file_extension": ".py",
   "mimetype": "text/x-python",
   "name": "python",
   "nbconvert_exporter": "python",
   "pygments_lexer": "ipython3",
   "version": "3.7.0"
  }
 },
 "nbformat": 4,
 "nbformat_minor": 2
}
